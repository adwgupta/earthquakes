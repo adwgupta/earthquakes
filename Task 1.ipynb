{
 "cells": [
  {
   "cell_type": "markdown",
   "id": "3f60419e",
   "metadata": {},
   "source": [
    "# Assignment 1 Task 1\n",
    "### Adityaa Gupta - 20324976\n",
    "#### API(s) used: (USGS Earthquake Catalog) https://earthquake.usgs.gov/fdsnws/event/1/\n",
    "\n",
    "\n",
    "This notebook covers Task 1 - Data Collection of this assignment by collecting data over the past two decades for earthquakes which has a 'Red', 'Yellow', 'Orange' and 'Green' alert status"
   ]
  },
  {
   "cell_type": "code",
   "execution_count": 1,
   "id": "115f9716",
   "metadata": {},
   "outputs": [],
   "source": [
    "import json, requests, urllib\n",
    "from pathlib import Path\n",
    "from datetime import datetime\n",
    "import pandas as pd\n",
    "import matplotlib\n",
    "import matplotlib.pyplot as plt\n",
    "from datetime import datetime\n",
    "%matplotlib inline"
   ]
  },
  {
   "cell_type": "markdown",
   "id": "60f89952",
   "metadata": {},
   "source": [
    "### Global Variables for data collection"
   ]
  },
  {
   "cell_type": "code",
   "execution_count": 2,
   "id": "f5365317",
   "metadata": {},
   "outputs": [],
   "source": [
    "api_prefix = \"https://earthquake.usgs.gov/fdsnws/event/1/\"\n",
    "level_types = (\"green\", \"yellow\", \"orange\", \"red\")\n",
    "start_date = \"2002-10-02\"\n",
    "end_date = \"2022-11-02\""
   ]
  },
  {
   "cell_type": "markdown",
   "id": "1fb77c67",
   "metadata": {},
   "source": [
    "Create directory for raw data storage if it does not already exist:"
   ]
  },
  {
   "cell_type": "code",
   "execution_count": 3,
   "id": "44d9159e",
   "metadata": {},
   "outputs": [],
   "source": [
    "dir_raw = Path(\"raw\")\n",
    "dir_raw.mkdir(parents=True, exist_ok=True)"
   ]
  },
  {
   "cell_type": "markdown",
   "id": "a8e6e95f",
   "metadata": {},
   "source": [
    "# Data Colection"
   ]
  },
  {
   "cell_type": "markdown",
   "id": "1e54b328",
   "metadata": {},
   "source": [
    "Function for retrieving data from API"
   ]
  },
  {
   "cell_type": "code",
   "execution_count": 4,
   "id": "6136d813",
   "metadata": {},
   "outputs": [],
   "source": [
    "def fetch(method, params={},):\n",
    "    # construct the url\n",
    "    url = api_prefix\n",
    "    url += method + \"?\" + urllib.parse.urlencode(params)\n",
    "    print(\"Fetching %s\" % url)\n",
    "    # fetch the page\n",
    "    response = requests.get(url)\n",
    "    jdata = response.text\n",
    "    return json.loads(jdata)"
   ]
  },
  {
   "cell_type": "markdown",
   "id": "a4c6b954",
   "metadata": {},
   "source": [
    "Function to retrieve specific data from the API and write to a file"
   ]
  },
  {
   "cell_type": "code",
   "execution_count": 5,
   "id": "2eee79a1",
   "metadata": {},
   "outputs": [],
   "source": [
    "def writeToFile(colour):\n",
    "    fname = \"%s.json\" % colour\n",
    "    out_path = dir_raw / fname\n",
    "    fout = open(out_path, \"a+\")\n",
    "    print(\"Now writing data to %s\\n\" % fname)\n",
    "    earthquakeData = fetch( \"query\", {\"format\":\"geojson\", \"alertlevel\":colour, \"starttime\":start_date, \"endtime\":end_date})\n",
    "    print(\"Data collection for alert status '%s' complete!\\n\" % colour)\n",
    "    json.dump(earthquakeData, fout, indent=4, sort_keys=True)\n",
    "    print(\"Sucess, finished writing data to %s!\\n\" % fname)\n",
    "    fout.close()"
   ]
  },
  {
   "cell_type": "markdown",
   "id": "d1281200",
   "metadata": {},
   "source": [
    "Before extracting the data, I will find out just how much data there is for each of the 4 alert colours in the time period given:"
   ]
  },
  {
   "cell_type": "code",
   "execution_count": 6,
   "id": "18f040b1",
   "metadata": {},
   "outputs": [
    {
     "name": "stdout",
     "output_type": "stream",
     "text": [
      "Fetching https://earthquake.usgs.gov/fdsnws/event/1/count?alertlevel=green&starttime=2002-10-02&endtime=2022-11-02\n",
      "The alert status 'green' has 7545 earthquakes\n",
      "\n",
      "Fetching https://earthquake.usgs.gov/fdsnws/event/1/count?alertlevel=yellow&starttime=2002-10-02&endtime=2022-11-02\n",
      "The alert status 'yellow' has 199 earthquakes\n",
      "\n",
      "Fetching https://earthquake.usgs.gov/fdsnws/event/1/count?alertlevel=orange&starttime=2002-10-02&endtime=2022-11-02\n",
      "The alert status 'orange' has 44 earthquakes\n",
      "\n",
      "Fetching https://earthquake.usgs.gov/fdsnws/event/1/count?alertlevel=red&starttime=2002-10-02&endtime=2022-11-02\n",
      "The alert status 'red' has 23 earthquakes\n",
      "\n"
     ]
    }
   ],
   "source": [
    "for colour in level_types:\n",
    "    count = fetch(\"count\", {\"alertlevel\":colour, \"starttime\":start_date, \"endtime\":end_date})\n",
    "    print(\"The alert status '%s' has %d earthquakes\\n\" % (colour, count))"
   ]
  },
  {
   "cell_type": "markdown",
   "id": "99250f45",
   "metadata": {},
   "source": [
    "I will now collect data for each of the 4 alert status colours using the below for loop"
   ]
  },
  {
   "cell_type": "code",
   "execution_count": 7,
   "id": "31899859",
   "metadata": {},
   "outputs": [
    {
     "name": "stdout",
     "output_type": "stream",
     "text": [
      "Now writing data to green.json\n",
      "\n",
      "Fetching https://earthquake.usgs.gov/fdsnws/event/1/query?format=geojson&alertlevel=green&starttime=2002-10-02&endtime=2022-11-02\n",
      "Data collection for alert status 'green' complete!\n",
      "\n",
      "Sucess, finished writing data to green.json!\n",
      "\n",
      "Now writing data to yellow.json\n",
      "\n",
      "Fetching https://earthquake.usgs.gov/fdsnws/event/1/query?format=geojson&alertlevel=yellow&starttime=2002-10-02&endtime=2022-11-02\n",
      "Data collection for alert status 'yellow' complete!\n",
      "\n",
      "Sucess, finished writing data to yellow.json!\n",
      "\n",
      "Now writing data to orange.json\n",
      "\n",
      "Fetching https://earthquake.usgs.gov/fdsnws/event/1/query?format=geojson&alertlevel=orange&starttime=2002-10-02&endtime=2022-11-02\n",
      "Data collection for alert status 'orange' complete!\n",
      "\n",
      "Sucess, finished writing data to orange.json!\n",
      "\n",
      "Now writing data to red.json\n",
      "\n",
      "Fetching https://earthquake.usgs.gov/fdsnws/event/1/query?format=geojson&alertlevel=red&starttime=2002-10-02&endtime=2022-11-02\n",
      "Data collection for alert status 'red' complete!\n",
      "\n",
      "Sucess, finished writing data to red.json!\n",
      "\n"
     ]
    }
   ],
   "source": [
    "for colour in level_types:\n",
    "    writeToFile(colour)"
   ]
  },
  {
   "cell_type": "markdown",
   "id": "aa3ab586",
   "metadata": {},
   "source": [
    "Check to see that the data collected and that was written to a file was done so properly"
   ]
  },
  {
   "cell_type": "code",
   "execution_count": 8,
   "id": "caee08a2",
   "metadata": {},
   "outputs": [
    {
     "data": {
      "text/html": [
       "<div>\n",
       "<style scoped>\n",
       "    .dataframe tbody tr th:only-of-type {\n",
       "        vertical-align: middle;\n",
       "    }\n",
       "\n",
       "    .dataframe tbody tr th {\n",
       "        vertical-align: top;\n",
       "    }\n",
       "\n",
       "    .dataframe thead th {\n",
       "        text-align: right;\n",
       "    }\n",
       "</style>\n",
       "<table border=\"1\" class=\"dataframe\">\n",
       "  <thead>\n",
       "    <tr style=\"text-align: right;\">\n",
       "      <th></th>\n",
       "      <th>0</th>\n",
       "      <th>1</th>\n",
       "      <th>2</th>\n",
       "      <th>3</th>\n",
       "      <th>4</th>\n",
       "      <th>5</th>\n",
       "      <th>6</th>\n",
       "      <th>7</th>\n",
       "      <th>8</th>\n",
       "      <th>9</th>\n",
       "      <th>...</th>\n",
       "      <th>7535</th>\n",
       "      <th>7536</th>\n",
       "      <th>7537</th>\n",
       "      <th>7538</th>\n",
       "      <th>7539</th>\n",
       "      <th>7540</th>\n",
       "      <th>7541</th>\n",
       "      <th>7542</th>\n",
       "      <th>7543</th>\n",
       "      <th>7544</th>\n",
       "    </tr>\n",
       "  </thead>\n",
       "  <tbody>\n",
       "    <tr>\n",
       "      <th>bbox</th>\n",
       "      <td>-179.9776</td>\n",
       "      <td>-69.7739</td>\n",
       "      <td>-1.92</td>\n",
       "      <td>179.9981</td>\n",
       "      <td>85.729</td>\n",
       "      <td>670.81</td>\n",
       "      <td>None</td>\n",
       "      <td>None</td>\n",
       "      <td>None</td>\n",
       "      <td>None</td>\n",
       "      <td>...</td>\n",
       "      <td>None</td>\n",
       "      <td>None</td>\n",
       "      <td>None</td>\n",
       "      <td>None</td>\n",
       "      <td>None</td>\n",
       "      <td>None</td>\n",
       "      <td>None</td>\n",
       "      <td>None</td>\n",
       "      <td>None</td>\n",
       "      <td>None</td>\n",
       "    </tr>\n",
       "    <tr>\n",
       "      <th>features</th>\n",
       "      <td>{'geometry': {'coordinates': [122.6285, 24.769...</td>\n",
       "      <td>{'geometry': {'coordinates': [15.6313, 39.8918...</td>\n",
       "      <td>{'geometry': {'coordinates': [-76.2179, -2.409...</td>\n",
       "      <td>{'geometry': {'coordinates': [-91.8537, -38.75...</td>\n",
       "      <td>{'geometry': {'coordinates': [166.8388, -16.29...</td>\n",
       "      <td>{'geometry': {'coordinates': [-172.8359, -15.3...</td>\n",
       "      <td>{'geometry': {'coordinates': [-76.1944, -14.53...</td>\n",
       "      <td>{'geometry': {'coordinates': [-76.1519, -14.52...</td>\n",
       "      <td>{'geometry': {'coordinates': [-179.128, -35.73...</td>\n",
       "      <td>{'geometry': {'coordinates': [-26.3423, -59.57...</td>\n",
       "      <td>...</td>\n",
       "      <td>{'geometry': {'coordinates': [-116.1331667, 34...</td>\n",
       "      <td>{'geometry': {'coordinates': [-116.8445, 34.31...</td>\n",
       "      <td>{'geometry': {'coordinates': [-116.8503333, 34...</td>\n",
       "      <td>{'geometry': {'coordinates': [-116.8473333, 34...</td>\n",
       "      <td>{'geometry': {'coordinates': [-116.8448333, 34...</td>\n",
       "      <td>{'geometry': {'coordinates': [-115.5106667, 31...</td>\n",
       "      <td>{'geometry': {'coordinates': [-118.6538333, 35...</td>\n",
       "      <td>{'geometry': {'coordinates': [-115.2018333, 32...</td>\n",
       "      <td>{'geometry': {'coordinates': [-115.7981667, 32...</td>\n",
       "      <td>{'geometry': {'coordinates': [-116.2665, 34.80...</td>\n",
       "    </tr>\n",
       "    <tr>\n",
       "      <th>metadata</th>\n",
       "      <td>api</td>\n",
       "      <td>count</td>\n",
       "      <td>generated</td>\n",
       "      <td>status</td>\n",
       "      <td>title</td>\n",
       "      <td>url</td>\n",
       "      <td>None</td>\n",
       "      <td>None</td>\n",
       "      <td>None</td>\n",
       "      <td>None</td>\n",
       "      <td>...</td>\n",
       "      <td>None</td>\n",
       "      <td>None</td>\n",
       "      <td>None</td>\n",
       "      <td>None</td>\n",
       "      <td>None</td>\n",
       "      <td>None</td>\n",
       "      <td>None</td>\n",
       "      <td>None</td>\n",
       "      <td>None</td>\n",
       "      <td>None</td>\n",
       "    </tr>\n",
       "  </tbody>\n",
       "</table>\n",
       "<p>3 rows × 7545 columns</p>\n",
       "</div>"
      ],
      "text/plain": [
       "                                                       0     \\\n",
       "bbox                                              -179.9776   \n",
       "features  {'geometry': {'coordinates': [122.6285, 24.769...   \n",
       "metadata                                                api   \n",
       "\n",
       "                                                       1     \\\n",
       "bbox                                               -69.7739   \n",
       "features  {'geometry': {'coordinates': [15.6313, 39.8918...   \n",
       "metadata                                              count   \n",
       "\n",
       "                                                       2     \\\n",
       "bbox                                                  -1.92   \n",
       "features  {'geometry': {'coordinates': [-76.2179, -2.409...   \n",
       "metadata                                          generated   \n",
       "\n",
       "                                                       3     \\\n",
       "bbox                                               179.9981   \n",
       "features  {'geometry': {'coordinates': [-91.8537, -38.75...   \n",
       "metadata                                             status   \n",
       "\n",
       "                                                       4     \\\n",
       "bbox                                                 85.729   \n",
       "features  {'geometry': {'coordinates': [166.8388, -16.29...   \n",
       "metadata                                              title   \n",
       "\n",
       "                                                       5     \\\n",
       "bbox                                                 670.81   \n",
       "features  {'geometry': {'coordinates': [-172.8359, -15.3...   \n",
       "metadata                                                url   \n",
       "\n",
       "                                                       6     \\\n",
       "bbox                                                   None   \n",
       "features  {'geometry': {'coordinates': [-76.1944, -14.53...   \n",
       "metadata                                               None   \n",
       "\n",
       "                                                       7     \\\n",
       "bbox                                                   None   \n",
       "features  {'geometry': {'coordinates': [-76.1519, -14.52...   \n",
       "metadata                                               None   \n",
       "\n",
       "                                                       8     \\\n",
       "bbox                                                   None   \n",
       "features  {'geometry': {'coordinates': [-179.128, -35.73...   \n",
       "metadata                                               None   \n",
       "\n",
       "                                                       9     ...  \\\n",
       "bbox                                                   None  ...   \n",
       "features  {'geometry': {'coordinates': [-26.3423, -59.57...  ...   \n",
       "metadata                                               None  ...   \n",
       "\n",
       "                                                       7535  \\\n",
       "bbox                                                   None   \n",
       "features  {'geometry': {'coordinates': [-116.1331667, 34...   \n",
       "metadata                                               None   \n",
       "\n",
       "                                                       7536  \\\n",
       "bbox                                                   None   \n",
       "features  {'geometry': {'coordinates': [-116.8445, 34.31...   \n",
       "metadata                                               None   \n",
       "\n",
       "                                                       7537  \\\n",
       "bbox                                                   None   \n",
       "features  {'geometry': {'coordinates': [-116.8503333, 34...   \n",
       "metadata                                               None   \n",
       "\n",
       "                                                       7538  \\\n",
       "bbox                                                   None   \n",
       "features  {'geometry': {'coordinates': [-116.8473333, 34...   \n",
       "metadata                                               None   \n",
       "\n",
       "                                                       7539  \\\n",
       "bbox                                                   None   \n",
       "features  {'geometry': {'coordinates': [-116.8448333, 34...   \n",
       "metadata                                               None   \n",
       "\n",
       "                                                       7540  \\\n",
       "bbox                                                   None   \n",
       "features  {'geometry': {'coordinates': [-115.5106667, 31...   \n",
       "metadata                                               None   \n",
       "\n",
       "                                                       7541  \\\n",
       "bbox                                                   None   \n",
       "features  {'geometry': {'coordinates': [-118.6538333, 35...   \n",
       "metadata                                               None   \n",
       "\n",
       "                                                       7542  \\\n",
       "bbox                                                   None   \n",
       "features  {'geometry': {'coordinates': [-115.2018333, 32...   \n",
       "metadata                                               None   \n",
       "\n",
       "                                                       7543  \\\n",
       "bbox                                                   None   \n",
       "features  {'geometry': {'coordinates': [-115.7981667, 32...   \n",
       "metadata                                               None   \n",
       "\n",
       "                                                       7544  \n",
       "bbox                                                   None  \n",
       "features  {'geometry': {'coordinates': [-116.2665, 34.80...  \n",
       "metadata                                               None  \n",
       "\n",
       "[3 rows x 7545 columns]"
      ]
     },
     "execution_count": 8,
     "metadata": {},
     "output_type": "execute_result"
    }
   ],
   "source": [
    "df_earthquakeData = {}\n",
    "fname = \"%s.json\" % level_types[0]\n",
    "in_path = dir_raw / fname\n",
    "df_earthquakeData = pd.read_json(in_path, orient=\"index\")\n",
    "df_earthquakeData.head(3)"
   ]
  },
  {
   "cell_type": "markdown",
   "id": "48221110",
   "metadata": {},
   "source": [
    "(proceed to the second notebook for task 2)"
   ]
  }
 ],
 "metadata": {
  "kernelspec": {
   "display_name": "Python 3 (ipykernel)",
   "language": "python",
   "name": "python3"
  },
  "language_info": {
   "codemirror_mode": {
    "name": "ipython",
    "version": 3
   },
   "file_extension": ".py",
   "mimetype": "text/x-python",
   "name": "python",
   "nbconvert_exporter": "python",
   "pygments_lexer": "ipython3",
   "version": "3.9.12"
  }
 },
 "nbformat": 4,
 "nbformat_minor": 5
}
