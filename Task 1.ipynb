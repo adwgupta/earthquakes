{
 "cells": [
  {
   "cell_type": "markdown",
   "id": "3f60419e",
   "metadata": {},
   "source": [
    "# (Assignment 1 Task 1)\n",
    "### Adityaa Gupta 20324976\n",
    "#### API used: (USGS Earthquake Catalog) https://earthquake.usgs.gov/fdsnws/event/1/\n",
    "\n",
    "In task 1 for this assignment, I decided to colelct data for eathquakes of various degrees of alert states using the <b> USGS Earthquake Catalog </b> https://earthquake.usgs.gov/fdsnws/event/1\n",
    "\n",
    "This notebook entitled 'Task 1' handles the Data Collection aspect of this assignment by collecting data over the past two decades for earthquakes which has a 'Red', 'Yellow', 'Orange' and 'Green' alert status"
   ]
  },
  {
   "cell_type": "code",
   "execution_count": 23,
   "id": "115f9716",
   "metadata": {},
   "outputs": [],
   "source": [
    "import json, requests, urllib\n",
    "from pathlib import Path\n",
    "from datetime import datetime\n",
    "import pandas as pd\n",
    "import matplotlib\n",
    "import matplotlib.pyplot as plt\n",
    "%matplotlib inline"
   ]
  },
  {
   "cell_type": "markdown",
   "id": "60f89952",
   "metadata": {},
   "source": [
    "### Global Variables for data collection"
   ]
  },
  {
   "cell_type": "code",
   "execution_count": 28,
   "id": "f5365317",
   "metadata": {},
   "outputs": [],
   "source": [
    "api_prefix = \"https://earthquake.usgs.gov/fdsnws/event/1/\"\n",
    "level_types = (\"green\", \"yellow\", \"orange\", \"red\")\n",
    "start_date = \"2002-10-02\"\n",
    "end_date = \"2022-11-02\""
   ]
  },
  {
   "cell_type": "markdown",
   "id": "1fb77c67",
   "metadata": {},
   "source": [
    "Create directory for raw data storage if it does not already exist:"
   ]
  },
  {
   "cell_type": "code",
   "execution_count": 25,
   "id": "44d9159e",
   "metadata": {},
   "outputs": [],
   "source": [
    "dir_raw = Path(\"raw\")\n",
    "dir_raw.mkdir(parents=True, exist_ok=True)"
   ]
  },
  {
   "cell_type": "markdown",
   "id": "a8e6e95f",
   "metadata": {},
   "source": [
    "# Data Colection"
   ]
  },
  {
   "cell_type": "markdown",
   "id": "1e54b328",
   "metadata": {},
   "source": [
    "Function for retrieving data from API"
   ]
  },
  {
   "cell_type": "code",
   "execution_count": 34,
   "id": "6136d813",
   "metadata": {},
   "outputs": [],
   "source": [
    "def fetch(method, params={},):\n",
    "    # construct the url\n",
    "    url = api_prefix\n",
    "    url += method + \"?\" + urllib.parse.urlencode(params)\n",
    "    print(\"Fetching %s\" % url)\n",
    "    # fetch the page\n",
    "    response = requests.get(url)\n",
    "    jdata = response.text\n",
    "    return json.loads(jdata)"
   ]
  },
  {
   "cell_type": "code",
   "execution_count": 38,
   "id": "2eee79a1",
   "metadata": {},
   "outputs": [],
   "source": [
    "def writeToFile():\n",
    "    for level_colour in level_types:\n",
    "        earthquakes = fetch( \"query\", {\"format\":\"geojson\", \"alertlevel\":level_colour, \"starttime\":start_date, \"endtime\":end_date})\n",
    "    fname = \"EarthquakeData\" + \".json\"\n",
    "    out_path = dir_raw / fname\n",
    "    print(\"Writing data to %s\" % out_path)\n",
    "    \n",
    "    fout = open(out_path, \"w\")\n",
    "    json.dump(earthquakes, fout, indent=4, sort_keys=True)\n",
    "    fout.close()\n",
    "    print(\"Sucess\")\n"
   ]
  },
  {
   "cell_type": "code",
   "execution_count": 39,
   "id": "31899859",
   "metadata": {},
   "outputs": [
    {
     "name": "stdout",
     "output_type": "stream",
     "text": [
      "Fetching https://earthquake.usgs.gov/fdsnws/event/1/query?format=geojson&alertlevel=green&starttime=2002-10-02&endtime=2022-11-02\n",
      "Fetching https://earthquake.usgs.gov/fdsnws/event/1/query?format=geojson&alertlevel=yellow&starttime=2002-10-02&endtime=2022-11-02\n",
      "Fetching https://earthquake.usgs.gov/fdsnws/event/1/query?format=geojson&alertlevel=orange&starttime=2002-10-02&endtime=2022-11-02\n",
      "Fetching https://earthquake.usgs.gov/fdsnws/event/1/query?format=geojson&alertlevel=red&starttime=2002-10-02&endtime=2022-11-02\n",
      "Writing data to raw\\EarthquakeData.json\n",
      "Sucess\n"
     ]
    }
   ],
   "source": [
    "writeToFile()"
   ]
  }
 ],
 "metadata": {
  "kernelspec": {
   "display_name": "Python 3 (ipykernel)",
   "language": "python",
   "name": "python3"
  },
  "language_info": {
   "codemirror_mode": {
    "name": "ipython",
    "version": 3
   },
   "file_extension": ".py",
   "mimetype": "text/x-python",
   "name": "python",
   "nbconvert_exporter": "python",
   "pygments_lexer": "ipython3",
   "version": "3.9.12"
  }
 },
 "nbformat": 4,
 "nbformat_minor": 5
}
